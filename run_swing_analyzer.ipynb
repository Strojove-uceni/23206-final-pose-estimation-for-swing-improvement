{
 "cells": [
  {
   "cell_type": "code",
   "execution_count": 2,
   "metadata": {},
   "outputs": [
    {
     "ename": "ModuleNotFoundError",
     "evalue": "No module named 'preprocess_swing'",
     "output_type": "error",
     "traceback": [
      "\u001b[1;31m---------------------------------------------------------------------------\u001b[0m",
      "\u001b[1;31mModuleNotFoundError\u001b[0m                       Traceback (most recent call last)",
      "\u001b[1;32mUntitled-1.ipynb Cell 1\u001b[0m line \u001b[0;36m1\n\u001b[1;32m----> <a href='vscode-notebook-cell:Untitled-1.ipynb?jupyter-notebook#W1sdW50aXRsZWQ%3D?line=0'>1</a>\u001b[0m \u001b[39mfrom\u001b[39;00m \u001b[39mpreprocess_swing\u001b[39;00m \u001b[39mimport\u001b[39;00m DataProcessor, Evaluator,VideoProcessor\n",
      "\u001b[1;31mModuleNotFoundError\u001b[0m: No module named 'preprocess_swing'"
     ]
    }
   ],
   "source": [
    "from preprocess_swing import DataProcessor, Evaluator,VideoProcessor"
   ]
  },
  {
   "cell_type": "code",
   "execution_count": null,
   "metadata": {},
   "outputs": [],
   "source": [
    "# Define the folder path where your video and CSV files are located\n",
    "folder_path = 'path/to/your/folder'\n",
    "\n",
    "# Step 1: Instantiate and use DataProcessor\n",
    "data_processor = DataProcessor(folder_path)\n",
    "data_processor.load_data()\n",
    "data_processor.preprocess_data()\n",
    "\n",
    "# Step 2: Instantiate and use Evaluator\n",
    "evaluator = Evaluator(data_processor)\n",
    "evaluator.evaluate_all_swing_parts()\n",
    "\n",
    "# Step 3: Instantiate and use VideoProcessor\n",
    "video_processor = VideoProcessor(folder_path, data_processor, evaluator)\n",
    "video_processor.save_frame()\n",
    "\n",
    "# At this point, the frames should be saved to the specified folder.\n"
   ]
  }
 ],
 "metadata": {
  "kernelspec": {
   "display_name": "pytorch_kernel",
   "language": "python",
   "name": "pytorch_env"
  },
  "language_info": {
   "codemirror_mode": {
    "name": "ipython",
    "version": 3
   },
   "file_extension": ".py",
   "mimetype": "text/x-python",
   "name": "python",
   "nbconvert_exporter": "python",
   "pygments_lexer": "ipython3",
   "version": "3.11.5"
  }
 },
 "nbformat": 4,
 "nbformat_minor": 2
}
