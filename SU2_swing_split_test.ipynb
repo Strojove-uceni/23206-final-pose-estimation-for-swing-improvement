{
 "cells": [
  {
   "cell_type": "code",
   "execution_count": 1,
   "id": "c61a454e",
   "metadata": {
    "pycharm": {
     "name": "#%%\n"
    }
   },
   "outputs": [],
   "source": [
    "import cv2 #opencv\n",
    "import mediapipe as mp\n",
    "import math\n",
    "import csv\n",
    "import datetime\n",
    "import pandas as pd\n",
    "import os\n",
    "from mediapipe_estimate import estimate\n",
    "pd.options.mode.chained_assignment = None "
   ]
  },
  {
   "cell_type": "code",
   "execution_count": 2,
   "id": "4e2db0c5",
   "metadata": {
    "pycharm": {
     "name": "#%%\n"
    }
   },
   "outputs": [
    {
     "data": {
      "text/html": [
       "<div>\n",
       "<style scoped>\n",
       "    .dataframe tbody tr th:only-of-type {\n",
       "        vertical-align: middle;\n",
       "    }\n",
       "\n",
       "    .dataframe tbody tr th {\n",
       "        vertical-align: top;\n",
       "    }\n",
       "\n",
       "    .dataframe thead th {\n",
       "        text-align: right;\n",
       "    }\n",
       "</style>\n",
       "<table border=\"1\" class=\"dataframe\">\n",
       "  <thead>\n",
       "    <tr style=\"text-align: right;\">\n",
       "      <th></th>\n",
       "      <th>youtube_id</th>\n",
       "      <th>events_7</th>\n",
       "      <th>events_9</th>\n",
       "    </tr>\n",
       "    <tr>\n",
       "      <th>id</th>\n",
       "      <th></th>\n",
       "      <th></th>\n",
       "      <th></th>\n",
       "    </tr>\n",
       "  </thead>\n",
       "  <tbody>\n",
       "    <tr>\n",
       "      <th>8</th>\n",
       "      <td>-M5SITXMA2Y</td>\n",
       "      <td>53</td>\n",
       "      <td>69</td>\n",
       "    </tr>\n",
       "    <tr>\n",
       "      <th>10</th>\n",
       "      <td>gOBVh7fzyZo</td>\n",
       "      <td>47</td>\n",
       "      <td>64</td>\n",
       "    </tr>\n",
       "    <tr>\n",
       "      <th>14</th>\n",
       "      <td>vN3Uc_EhnnY</td>\n",
       "      <td>49</td>\n",
       "      <td>64</td>\n",
       "    </tr>\n",
       "    <tr>\n",
       "      <th>19</th>\n",
       "      <td>iW323nsTGtU</td>\n",
       "      <td>57</td>\n",
       "      <td>82</td>\n",
       "    </tr>\n",
       "    <tr>\n",
       "      <th>21</th>\n",
       "      <td>xD6KDqPF9cc</td>\n",
       "      <td>45</td>\n",
       "      <td>66</td>\n",
       "    </tr>\n",
       "    <tr>\n",
       "      <th>...</th>\n",
       "      <td>...</td>\n",
       "      <td>...</td>\n",
       "      <td>...</td>\n",
       "    </tr>\n",
       "    <tr>\n",
       "      <th>1370</th>\n",
       "      <td>g90r9cs1tTw</td>\n",
       "      <td>43</td>\n",
       "      <td>65</td>\n",
       "    </tr>\n",
       "    <tr>\n",
       "      <th>1372</th>\n",
       "      <td>eNlBbMI-MhQ</td>\n",
       "      <td>59</td>\n",
       "      <td>81</td>\n",
       "    </tr>\n",
       "    <tr>\n",
       "      <th>1374</th>\n",
       "      <td>6K1FD0sOwoI</td>\n",
       "      <td>63</td>\n",
       "      <td>86</td>\n",
       "    </tr>\n",
       "    <tr>\n",
       "      <th>1388</th>\n",
       "      <td>GXn3A0IuWsE</td>\n",
       "      <td>44</td>\n",
       "      <td>57</td>\n",
       "    </tr>\n",
       "    <tr>\n",
       "      <th>1396</th>\n",
       "      <td>TtxGGIzrqWI</td>\n",
       "      <td>56</td>\n",
       "      <td>73</td>\n",
       "    </tr>\n",
       "  </tbody>\n",
       "</table>\n",
       "<p>246 rows × 3 columns</p>\n",
       "</div>"
      ],
      "text/plain": [
       "       youtube_id  events_7  events_9\n",
       "id                                   \n",
       "8     -M5SITXMA2Y        53        69\n",
       "10    gOBVh7fzyZo        47        64\n",
       "14    vN3Uc_EhnnY        49        64\n",
       "19    iW323nsTGtU        57        82\n",
       "21    xD6KDqPF9cc        45        66\n",
       "...           ...       ...       ...\n",
       "1370  g90r9cs1tTw        43        65\n",
       "1372  eNlBbMI-MhQ        59        81\n",
       "1374  6K1FD0sOwoI        63        86\n",
       "1388  GXn3A0IuWsE        44        57\n",
       "1396  TtxGGIzrqWI        56        73\n",
       "\n",
       "[246 rows x 3 columns]"
      ]
     },
     "execution_count": 2,
     "metadata": {},
     "output_type": "execute_result"
    }
   ],
   "source": [
    "test_dat=data=pd.read_csv('golfDB_front_orig.csv',index_col='id')\n",
    "test_dat=test_dat[['youtube_id','events_2','events_7','events_9']]\n",
    "test_dat['events_9']=test_dat['events_9']-test_dat['events_2']+15\n",
    "test_dat['events_7']=test_dat['events_7']-test_dat['events_2']+15\n",
    "test_dat=test_dat.drop(['events_2'],axis=1)\n",
    "test_dat"
   ]
  },
  {
   "cell_type": "code",
   "execution_count": 3,
   "id": "495cfdaf",
   "metadata": {
    "pycharm": {
     "name": "#%%\n"
    }
   },
   "outputs": [
    {
     "name": "stdout",
     "output_type": "stream",
     "text": [
      "incorrect estimate 0  estimated [s]: 1.43 , gt [s]: 1.77 , tolerance [frames]: 2 , frame difference: 10\n",
      "correct esitmate 1  estimated [s]: 1.53 gt [s]: 1.57 , tolerance [frames]: 2 , frame difference: 1\n",
      "attempt to get argmin of an empty sequence output_video_vN3Uc_EhnnY\n",
      "correct esitmate 2  estimated [s]: 1.87 gt [s]: 1.9 , tolerance [frames]: 2 , frame difference: 1\n",
      "correct esitmate 3  estimated [s]: 1.47 gt [s]: 1.53 , tolerance [frames]: 2 , frame difference: 2\n",
      "can only convert an array of size 1 to a Python scalar output_video_pxO_eGmiDFk\n",
      "can only convert an array of size 1 to a Python scalar output_video_2Us2Zx_S6hI\n",
      "correct esitmate 6  estimated [s]: 1.83 gt [s]: 1.83 , tolerance [frames]: 2 , frame difference: 0\n",
      "can only convert an array of size 1 to a Python scalar output_video_j6h-3Ez0714\n",
      "incorrect estimate 6  estimated [s]: 1.83 , gt [s]: 1.93 , tolerance [frames]: 2 , frame difference: 3\n",
      "correct esitmate 7  estimated [s]: 1.77 gt [s]: 1.83 , tolerance [frames]: 2 , frame difference: 2\n",
      "attempt to get argmin of an empty sequence output_video_8n9BBNEj3yk\n",
      "attempt to get argmin of an empty sequence output_video_FPvudrvNw6A\n",
      "correct esitmate 8  estimated [s]: 2.43 gt [s]: 2.47 , tolerance [frames]: 4 , frame difference: 1\n",
      "correct esitmate 9  estimated [s]: 1.57 gt [s]: 1.6 , tolerance [frames]: 2 , frame difference: 1\n",
      "correct esitmate 10  estimated [s]: 2.33 gt [s]: 2.4 , tolerance [frames]: 4 , frame difference: 2\n",
      "correct esitmate 11  estimated [s]: 2.0 gt [s]: 2.03 , tolerance [frames]: 4 , frame difference: 1\n",
      "attempt to get argmin of an empty sequence output_video_bF8A2zdAfAs\n",
      "can only convert an array of size 1 to a Python scalar output_video_04d08bM6-6U\n",
      "attempt to get argmin of an empty sequence output_video_0fJeBnmMKUw\n",
      "correct esitmate 12  estimated [s]: 1.73 gt [s]: 1.77 , tolerance [frames]: 2 , frame difference: 1\n",
      "correct esitmate 13  estimated [s]: 1.7 gt [s]: 1.73 , tolerance [frames]: 2 , frame difference: 1\n",
      "correct esitmate 14  estimated [s]: 1.5 gt [s]: 1.53 , tolerance [frames]: 2 , frame difference: 1\n",
      "correct esitmate 15  estimated [s]: 1.6 gt [s]: 1.63 , tolerance [frames]: 2 , frame difference: 1\n",
      "can only convert an array of size 1 to a Python scalar output_video_nFTbqjkDm1k\n",
      "correct esitmate 16  estimated [s]: 1.47 gt [s]: 1.5 , tolerance [frames]: 2 , frame difference: 1\n",
      "correct esitmate 17  estimated [s]: 1.77 gt [s]: 1.83 , tolerance [frames]: 2 , frame difference: 2\n",
      "correct esitmate 18  estimated [s]: 1.5 gt [s]: 1.57 , tolerance [frames]: 2 , frame difference: 2\n",
      "correct esitmate 19  estimated [s]: 1.9 gt [s]: 1.93 , tolerance [frames]: 2 , frame difference: 1\n",
      "correct esitmate 20  estimated [s]: 1.73 gt [s]: 1.77 , tolerance [frames]: 2 , frame difference: 1\n",
      "correct esitmate 21  estimated [s]: 1.67 gt [s]: 1.7 , tolerance [frames]: 2 , frame difference: 1\n",
      "correct esitmate 22  estimated [s]: 1.57 gt [s]: 1.63 , tolerance [frames]: 2 , frame difference: 2\n",
      "correct esitmate 23  estimated [s]: 1.67 gt [s]: 1.7 , tolerance [frames]: 2 , frame difference: 1\n",
      "correct esitmate 24  estimated [s]: 1.9 gt [s]: 1.93 , tolerance [frames]: 2 , frame difference: 1\n",
      "can only convert an array of size 1 to a Python scalar output_video_R-Td093M7X8\n",
      "correct esitmate 25  estimated [s]: 1.57 gt [s]: 1.6 , tolerance [frames]: 2 , frame difference: 1\n",
      "correct esitmate 26  estimated [s]: 2.17 gt [s]: 2.2 , tolerance [frames]: 4 , frame difference: 1\n",
      "correct esitmate 27  estimated [s]: 1.37 gt [s]: 1.43 , tolerance [frames]: 2 , frame difference: 2\n",
      "attempt to get argmin of an empty sequence output_video_HdxziXkorhw\n",
      "correct esitmate 28  estimated [s]: 1.77 gt [s]: 1.8 , tolerance [frames]: 2 , frame difference: 1\n",
      "attempt to get argmin of an empty sequence output_video_UVnNv2eW4gQ\n",
      "can only convert an array of size 1 to a Python scalar output_video_-wg8m-A0hx4\n",
      "can only convert an array of size 1 to a Python scalar output_video_M0_iWxqd7fY\n",
      "correct esitmate 30  estimated [s]: 1.47 gt [s]: 1.53 , tolerance [frames]: 2 , frame difference: 2\n"
     ]
    },
    {
     "ename": "KeyboardInterrupt",
     "evalue": "",
     "output_type": "error",
     "traceback": [
      "\u001b[1;31m---------------------------------------------------------------------------\u001b[0m",
      "\u001b[1;31mKeyboardInterrupt\u001b[0m                         Traceback (most recent call last)",
      "\u001b[1;32mc:\\Users\\sonic\\OneDrive\\Documents\\FJFI\\SU2\\23206-final-pose-estimation-for-swing-improvement\\SU2_swing_split_test.ipynb Cell 3\u001b[0m line \u001b[0;36m7\n\u001b[0;32m      <a href='vscode-notebook-cell:/c%3A/Users/sonic/OneDrive/Documents/FJFI/SU2/23206-final-pose-estimation-for-swing-improvement/SU2_swing_split_test.ipynb#W2sZmlsZQ%3D%3D?line=4'>5</a>\u001b[0m \u001b[39mfor\u001b[39;00m fl \u001b[39min\u001b[39;00m name_list:\n\u001b[0;32m      <a href='vscode-notebook-cell:/c%3A/Users/sonic/OneDrive/Documents/FJFI/SU2/23206-final-pose-estimation-for-swing-improvement/SU2_swing_split_test.ipynb#W2sZmlsZQ%3D%3D?line=5'>6</a>\u001b[0m     \u001b[39mtry\u001b[39;00m:\n\u001b[1;32m----> <a href='vscode-notebook-cell:/c%3A/Users/sonic/OneDrive/Documents/FJFI/SU2/23206-final-pose-estimation-for-swing-improvement/SU2_swing_split_test.ipynb#W2sZmlsZQ%3D%3D?line=6'>7</a>\u001b[0m         fps\u001b[39m=\u001b[39mestimate(fl)\n\u001b[0;32m      <a href='vscode-notebook-cell:/c%3A/Users/sonic/OneDrive/Documents/FJFI/SU2/23206-final-pose-estimation-for-swing-improvement/SU2_swing_split_test.ipynb#W2sZmlsZQ%3D%3D?line=7'>8</a>\u001b[0m         data\u001b[39m=\u001b[39mpd\u001b[39m.\u001b[39mread_csv(\u001b[39m'\u001b[39m\u001b[39mresults/variables_\u001b[39m\u001b[39m'\u001b[39m\u001b[39m+\u001b[39mfl\u001b[39m+\u001b[39m\u001b[39m'\u001b[39m\u001b[39m.csv\u001b[39m\u001b[39m'\u001b[39m)\n\u001b[0;32m     <a href='vscode-notebook-cell:/c%3A/Users/sonic/OneDrive/Documents/FJFI/SU2/23206-final-pose-estimation-for-swing-improvement/SU2_swing_split_test.ipynb#W2sZmlsZQ%3D%3D?line=9'>10</a>\u001b[0m         \u001b[39m#consider only time between backswing and finish\u001b[39;00m\n",
      "File \u001b[1;32mc:\\Users\\sonic\\OneDrive\\Documents\\FJFI\\SU2\\23206-final-pose-estimation-for-swing-improvement\\mediapipe_estimate.py:80\u001b[0m, in \u001b[0;36mestimate\u001b[1;34m(fl, slow_motion_factor)\u001b[0m\n\u001b[0;32m     77\u001b[0m     \u001b[39mpass\u001b[39;00m\n\u001b[0;32m     79\u001b[0m \u001b[39m# Write the frame with the drawn circle to the output video\u001b[39;00m\n\u001b[1;32m---> 80\u001b[0m out\u001b[39m.\u001b[39mwrite(duplicated_image)\n\u001b[0;32m     82\u001b[0m cv2\u001b[39m.\u001b[39mimshow(\u001b[39m'\u001b[39m\u001b[39mMediapipe Pose\u001b[39m\u001b[39m'\u001b[39m, duplicated_image)\n\u001b[0;32m     84\u001b[0m \u001b[39mif\u001b[39;00m cv2\u001b[39m.\u001b[39mwaitKey(\u001b[39m5\u001b[39m) \u001b[39m&\u001b[39m \u001b[39m0xFF\u001b[39m \u001b[39m==\u001b[39m \u001b[39mord\u001b[39m(\u001b[39m'\u001b[39m\u001b[39mq\u001b[39m\u001b[39m'\u001b[39m) \u001b[39mor\u001b[39;00m cv2\u001b[39m.\u001b[39mgetWindowProperty(\u001b[39m'\u001b[39m\u001b[39mMediapipe Pose\u001b[39m\u001b[39m'\u001b[39m, cv2\u001b[39m.\u001b[39mWND_PROP_VISIBLE) \u001b[39m<\u001b[39m \u001b[39m1\u001b[39m:\n",
      "\u001b[1;31mKeyboardInterrupt\u001b[0m: "
     ]
    },
    {
     "ename": "",
     "evalue": "",
     "output_type": "error",
     "traceback": [
      "\u001b[1;31mThe Kernel crashed while executing code in the the current cell or a previous cell. Please review the code in the cell(s) to identify a possible cause of the failure. Click <a href='https://aka.ms/vscodeJupyterKernelCrash'>here</a> for more info. View Jupyter <a href='command:jupyter.viewOutput'>log</a> for further details."
     ]
    }
   ],
   "source": [
    "folder_path = '23206-final-pose-estimation-for-swing-improvement/cropped_videos'\n",
    "name_list=list('output_video_'+pd.unique(test_dat.youtube_id))\n",
    "all=len(name_list)\n",
    "correct=0\n",
    "for fl in name_list:\n",
    "    try:\n",
    "        data=pd.read_csv('results/variables_'+fl+'.csv')\n",
    "        \n",
    "        #consider only time between backswing and finish\n",
    "        halfway_back_ind=data['right_wrist_x'].idxmin()\n",
    "        halfway_up_ind=data.right_wrist_x[data.index>halfway_back_ind].idxmax()\n",
    "        middle_data=data[(data.index>halfway_back_ind)&(data.index<halfway_up_ind)]\n",
    "\n",
    "        #find moment of ball contact as tha maximum of wrist y \n",
    "        contact_frame=middle_data[middle_data['right_wrist_y']==middle_data['right_wrist_y'].max()].index\n",
    "        \n",
    "\n",
    "        \n",
    "        #extract the gt from golfDB\n",
    "        yt_id='_'.join(fl.split('_')[2::])\n",
    "        gt=test_dat[test_dat.youtube_id==yt_id].events_7.item()\n",
    "\n",
    "        #calculte tolerance as per golfDB paper\n",
    "        tolerance=2*(gt//fps)\n",
    "\n",
    "\n",
    "        if contact_frame.item()<=tolerance+gt and contact_frame.item()>=gt-tolerance:\n",
    "            correct+=1\n",
    "            print('correct esitmate',correct,' estimated [s]:',data[data.index==contact_frame.item()].timestamp.item(),'gt [s]:', data[data.index==test_dat[test_dat.youtube_id==fl.split('_')[2]].events_7.item()].timestamp.item(),', tolerance [frames]:',tolerance, ', frame difference:', abs(contact_frame.item()-gt))\n",
    "\n",
    "        else:\n",
    "            print('incorrect estimate',correct,' estimated [s]:',data[data.index==contact_frame.item()].timestamp.item(),', gt [s]:', data[data.index==test_dat[test_dat.youtube_id==fl.split('_')[2]].events_7.item()].timestamp.item(),', tolerance [frames]:',tolerance,', frame difference:', abs(contact_frame.item()-gt))\n",
    "    except Exception as e:\n",
    "        print(e,fl)\n",
    "        all=all-1\n",
    "        \n",
    "              \n",
    "            \n",
    "accuracy=correct/len(name_list)\n",
    "print(accuracy)"
   ]
  },
  {
   "cell_type": "code",
   "execution_count": null,
   "id": "43f571b3",
   "metadata": {
    "pycharm": {
     "name": "#%%\n"
    }
   },
   "outputs": [],
   "source": [
    "# data=pd.read_csv('results/variables_'+fl+'.csv')\n",
    "# halfway_back_ind=data['right_wrist_x'].idxmin()\n",
    "# data_back=data[data.index>halfway_back_ind]\n",
    "# data['sum_wrists_hit']=data['right_wrist_y']+data.timestamp\n",
    "# ev_6=data[data['sum_wrists_hit']==data['sum_wrists_hit'].max()].index"
   ]
  },
  {
   "cell_type": "code",
   "execution_count": null,
   "id": "16c2ff85",
   "metadata": {
    "pycharm": {
     "name": "#%%\n"
    }
   },
   "outputs": [],
   "source": [
    "# data=pd.read_csv('results/variables_'+fl+'.csv')\n"
   ]
  }
 ],
 "metadata": {
  "kernelspec": {
   "display_name": "pytorch_kernel",
   "language": "python",
   "name": "pytorch_env"
  },
  "language_info": {
   "codemirror_mode": {
    "name": "ipython",
    "version": 3
   },
   "file_extension": ".py",
   "mimetype": "text/x-python",
   "name": "python",
   "nbconvert_exporter": "python",
   "pygments_lexer": "ipython3",
   "version": "3.11.5"
  }
 },
 "nbformat": 4,
 "nbformat_minor": 5
}
