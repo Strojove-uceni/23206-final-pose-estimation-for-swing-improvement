{
  "nbformat": 4,
  "nbformat_minor": 0,
  "metadata": {
    "colab": {
      "provenance": [],
      "authorship_tag": "ABX9TyNTTXZlDYZZOeT4toWpm5ld",
      "include_colab_link": true
    },
    "kernelspec": {
      "name": "python3",
      "display_name": "Python 3"
    },
    "language_info": {
      "name": "python"
    }
  },
  "cells": [
    {
      "cell_type": "markdown",
      "metadata": {
        "id": "view-in-github",
        "colab_type": "text"
      },
      "source": [
        "<a href=\"https://colab.research.google.com/github/Strojove-uceni/23206-final-pose-estimation-for-swing-improvement/blob/main/MediaPipe_single_video.ipynb\" target=\"_parent\"><img src=\"https://colab.research.google.com/assets/colab-badge.svg\" alt=\"Open In Colab\"/></a>"
      ]
    },
    {
      "cell_type": "code",
      "source": [
        "!pip install mediapipe\n",
        "# Use !wget to download a specific file\n",
        "!wget https://github.com/Strojove-uceni/23206-final-pose-estimation-for-swing-improvement/raw/main/cropped_videos/output_video_-M5SITXMA2Y.mp4"
      ],
      "metadata": {
        "colab": {
          "base_uri": "https://localhost:8080/"
        },
        "id": "DPRK77pQX7IN",
        "outputId": "20e55122-ac42-4cd6-eb4c-24bc7708a4fe"
      },
      "execution_count": 22,
      "outputs": [
        {
          "output_type": "stream",
          "name": "stdout",
          "text": [
            "--2023-12-11 20:02:39--  https://github.com/Strojove-uceni/23206-final-pose-estimation-for-swing-improvement/raw/main/cropped_videos/output_video_-M5SITXMA2Y.mp4\n",
            "Resolving github.com (github.com)... 140.82.112.4\n",
            "Connecting to github.com (github.com)|140.82.112.4|:443... connected.\n",
            "HTTP request sent, awaiting response... 302 Found\n",
            "Location: https://raw.githubusercontent.com/Strojove-uceni/23206-final-pose-estimation-for-swing-improvement/main/cropped_videos/output_video_-M5SITXMA2Y.mp4 [following]\n",
            "--2023-12-11 20:02:39--  https://raw.githubusercontent.com/Strojove-uceni/23206-final-pose-estimation-for-swing-improvement/main/cropped_videos/output_video_-M5SITXMA2Y.mp4\n",
            "Resolving raw.githubusercontent.com (raw.githubusercontent.com)... 185.199.108.133, 185.199.109.133, 185.199.110.133, ...\n",
            "Connecting to raw.githubusercontent.com (raw.githubusercontent.com)|185.199.108.133|:443... connected.\n",
            "HTTP request sent, awaiting response... 200 OK\n",
            "Length: 254614 (249K) [application/octet-stream]\n",
            "Saving to: ‘output_video_-M5SITXMA2Y.mp4’\n",
            "\n",
            "output_video_-M5SIT 100%[===================>] 248.65K  --.-KB/s    in 0.05s   \n",
            "\n",
            "2023-12-11 20:02:39 (5.10 MB/s) - ‘output_video_-M5SITXMA2Y.mp4’ saved [254614/254614]\n",
            "\n"
          ]
        }
      ]
    },
    {
      "cell_type": "code",
      "source": [
        "!git clone https://github.com/Strojove-uceni/23206-final-pose-estimation-for-swing-improvement"
      ],
      "metadata": {
        "colab": {
          "base_uri": "https://localhost:8080/"
        },
        "id": "Cgx3G764f7jU",
        "outputId": "0e22376a-65d5-486b-f964-c290edf9f8c8"
      },
      "execution_count": 30,
      "outputs": [
        {
          "output_type": "stream",
          "name": "stdout",
          "text": [
            "fatal: destination path '23206-final-pose-estimation-for-swing-improvement' already exists and is not an empty directory.\n"
          ]
        }
      ]
    },
    {
      "cell_type": "code",
      "source": [
        "import cv2\n",
        "import mediapipe as mp\n",
        "import sys\n",
        "import math\n",
        "import csv\n",
        "import os\n",
        "import datetime"
      ],
      "metadata": {
        "id": "VMiYkZrAq3W8"
      },
      "execution_count": 31,
      "outputs": []
    },
    {
      "cell_type": "code",
      "source": [
        "sys.path.append('/content/23206-final-pose-estimation-for-swing-improvement')\n",
        "input_folder = '/content/23206-final-pose-estimation-for-swing-improvement'+'cropped_videos'"
      ],
      "metadata": {
        "id": "OMUATqmluSPW"
      },
      "execution_count": 33,
      "outputs": []
    },
    {
      "cell_type": "code",
      "source": [
        "# Input and output files\n",
        "input_file = 'cropped_videos/output_video_-M5SITXMA2Y'\n",
        "csv_file_name = f'{os.path.splitext(input_file)[0]}.csv'\n",
        "output_video_name = f'{os.path.splitext(input_file)[0]}_output.mp4'"
      ],
      "metadata": {
        "id": "YXbx7qhVq92r"
      },
      "execution_count": 34,
      "outputs": []
    },
    {
      "cell_type": "code",
      "source": [
        "def calculate_angle(a, b, c):\n",
        "    # Calculate the angle between three points in degrees\n",
        "    radians = math.atan2(c.y - b.y, c.x - b.x) - math.atan2(a.y - b.y, a.x - b.x)\n",
        "    angle = math.degrees(radians)\n",
        "    angle = abs(angle)\n",
        "    if angle > 180:\n",
        "        angle = 360 - angle\n",
        "    return angle"
      ],
      "metadata": {
        "id": "R2ojh4YzyVqq"
      },
      "execution_count": 4,
      "outputs": []
    },
    {
      "cell_type": "code",
      "source": [
        "def calculate_angle2(x1, y1, x2, y2, axis='x', orientation='right'):\n",
        "    if (math.sqrt((x2 - x1)**2 + (y2 - y1)**2) * x1) != 0:\n",
        "        if axis == 'x':\n",
        "            theta = math.acos((x2 - x1) * (-x1) / (math.sqrt((x2 - x1)**2 + (y2 - y1)**2) * x1))\n",
        "        elif axis == 'y':\n",
        "            theta = math.acos( (y2 -y1)*(-y1) / (math.sqrt((x2 - x1)**2 + (y2 - y1)**2 ) * y1))\n",
        "        else:\n",
        "            raise ValueError(\"Invalid axis, use 'x' or 'y'\")\n",
        "\n",
        "        if orientation == 'right':\n",
        "            angle = int(180/math.pi) * theta\n",
        "        elif orientation == 'left':\n",
        "            angle = 180 - int(180/math.pi) * theta\n",
        "        else:\n",
        "            raise ValueError(\"Invalid orientation, use 'left' or 'right'\")\n",
        "\n",
        "    else:\n",
        "        return 0  # Handle the case where x1 is zero to avoid division by zero\n",
        "\n",
        "    return angle"
      ],
      "metadata": {
        "id": "TRbMc0pgycUQ"
      },
      "execution_count": 5,
      "outputs": []
    },
    {
      "cell_type": "code",
      "source": [
        "def middle_point(a, b):\n",
        "    midpoint_x = (a.x + b.x) / 2\n",
        "    midpoint_y = (a.y + b.y) / 2\n",
        "    return midpoint_x, midpoint_y"
      ],
      "metadata": {
        "id": "VO2Te8KZyfNW"
      },
      "execution_count": 6,
      "outputs": []
    },
    {
      "cell_type": "code",
      "source": [
        "def process_video(input_file, csv_file_name, output_video_name):\n",
        "  # set up media pipe - create two variables\n",
        "  mp_drawing = mp.solutions.drawing_utils\n",
        "  mp_pose = mp.solutions.pose\n",
        "\n",
        "  with open(csv_file_name, mode='w', newline='') as file:\n",
        "    writer = csv.writer(file)\n",
        "    writer.writerow([\"video_timestamp\", \"shoulders_inclination\", \"hips_inclination\",\n",
        "                      \"knee_angle\", \"pelvis_angle\", \"arm_angle\",\n",
        "                      \"right_shoulder X\", \"right_shoulder Y\",\n",
        "                      \"left_shoulder X\", \"left_shoulder Y\",\n",
        "                      \"left_elbow X\", \"left_elbow Y\",\n",
        "                      \"right_wrist X\", \"right_wrist Y\",\n",
        "                      \"left_wrist X\", \"left_wrist Y\",\n",
        "                      \"nose X\", \"nose Y\",\n",
        "                      \"right_hip X\", \"right_hip Y\",\n",
        "                      \"left_hip X\", \"left_hip Y\",\n",
        "                      \"right_knee X\", \"right_knee Y\",\n",
        "                      \"right_ankle X\", \"right_ankle Y\",\n",
        "                      \"left_ankle X\", \"left_ankle Y\",\n",
        "                      \"midpoint X\", \"midpoint Y\"])\n",
        "\n",
        "  cap = cv2.VideoCapture(input_file)\n",
        "  fourcc = cv2.VideoWriter_fourcc(*'MP4V')\n",
        "  out = cv2.VideoWriter(output_video_name, fourcc, 30.0, (int(cap.get(3)), int(cap.get(4))))\n",
        "\n",
        "  frame_number = 0\n",
        "  with mp_pose.Pose(min_detection_confidence=0.5, min_tracking_confidence=0.5) as pose:\n",
        "    while cap.isOpened():\n",
        "      success, image = cap.read()\n",
        "      if not success:\n",
        "        print(\"Null.Frames\")\n",
        "        break\n",
        "\n",
        "      try:\n",
        "          fps = cap.get(cv2.CAP_PROP_FPS)\n",
        "          video_timestamp = round(frame_number / fps)\n",
        "          video_timestamp = str(datetime.timedelta(seconds=video_timestamp))\n",
        "          h, w = image.shape[:2]\n",
        "\n",
        "          image = cv2.cvtColor(image, cv2.COLOR_BGR2RGB)\n",
        "          image.flags.writeable = False\n",
        "\n",
        "          keypoints = pose.process(image)\n",
        "\n",
        "          image.flags.writeable = True\n",
        "          image = cv2.cvtColor(image, cv2.COLOR_RGB2BGR)\n",
        "\n",
        "          landmarks = keypoints.pose_landmarks.landmark\n",
        "\n",
        "          # Get coordinates of specific landmarks\n",
        "          left_shoulder = landmarks[mp_pose.PoseLandmark.LEFT_SHOULDER]\n",
        "          right_shoulder = landmarks[mp_pose.PoseLandmark.RIGHT_SHOULDER]\n",
        "          left_hip = landmarks[mp_pose.PoseLandmark.LEFT_HIP]\n",
        "          right_hip = landmarks[mp_pose.PoseLandmark.RIGHT_HIP]\n",
        "          right_wrist = landmarks[mp_pose.PoseLandmark.RIGHT_WRIST]\n",
        "          left_wrist = landmarks[mp_pose.PoseLandmark.LEFT_WRIST]\n",
        "          nose = landmarks[mp_pose.PoseLandmark.NOSE]\n",
        "          right_knee = landmarks[mp_pose.PoseLandmark.RIGHT_KNEE]\n",
        "          left_knee = landmarks[mp_pose.PoseLandmark.LEFT_KNEE]\n",
        "          right_ankle = landmarks[mp_pose.PoseLandmark.RIGHT_ANKLE]\n",
        "          left_ankle = landmarks[mp_pose.PoseLandmark.LEFT_ANKLE]\n",
        "          left_elbow = landmarks[mp_pose.PoseLandmark.LEFT_ELBOW]\n",
        "\n",
        "          # Calculate angles\n",
        "          knee_angle = calculate_angle(left_hip, left_knee, left_ankle)\n",
        "          pelvis_angle = calculate_angle(left_ankle, left_hip, right_shoulder)\n",
        "          arm_angle = calculate_angle(left_wrist, left_elbow, left_shoulder)\n",
        "          shoulders_inclination = calculate_angle2(int(right_shoulder.x * w), int(right_shoulder.y * h), int(left_shoulder.x * w), int(left_shoulder.y * h), 'x', 'left')\n",
        "          hips_inclination = calculate_angle2(int(left_hip.x * w), int(left_hip.y * h), int(right_hip.x * w), int(right_hip.y * h), 'x')\n",
        "\n",
        "          midpoint_x, midpoint_y = middle_point(right_ankle, left_ankle)\n",
        "\n",
        "          # Open the CSV file in write mode\n",
        "          with open(csv_file_name, mode='a', newline='') as file:\n",
        "            writer = csv.writer(file)\n",
        "            # Write the data to the\n",
        "            writer.writerow([video_timestamp, shoulders_inclination, hips_inclination,\n",
        "                              knee_angle, pelvis_angle, arm_angle,\n",
        "                              int(right_shoulder.x* w), int(right_shoulder.y* h),\n",
        "                              int(left_shoulder.x* w), int(left_shoulder.y* h),\n",
        "                              int(left_elbow.x * w), int(left_elbow.y * h),\n",
        "                              int(right_wrist.x* w), int(right_wrist.y* h),\n",
        "                              int(left_wrist.x* w), int(left_wrist.y* h),\n",
        "                              int(nose.x* w), int(nose.y* h),\n",
        "                              int(right_hip.x * w), int(right_hip.y * h),\n",
        "                              int(left_hip.x * w), int(left_hip.y * h),\n",
        "                              int(right_knee.x * w), int(right_knee.y * h),\n",
        "                              int(right_ankle.x * w), int(right_ankle.y * h),\n",
        "                              int(left_ankle.x * w), int(left_ankle.y * h),\n",
        "                              int(midpoint_x * w), int(midpoint_y * h)])\n",
        "\n",
        "          # Display points\n",
        "          cv2.circle(image, (int(right_shoulder.x * w), int(right_shoulder.y * h)), 6, (0, 255, 0), -1)\n",
        "          cv2.circle(image, (int(left_shoulder.x * w), int(left_shoulder.y * h)), 6, (0, 255, 0), -1)\n",
        "          cv2.circle(image, (int(right_hip.x * w), int(right_hip.y * h)), 6, (255, 255, 0), -1)\n",
        "          cv2.circle(image, (int(left_hip.x * w), int(left_hip.y * h)), 6, (0, 150, 255), -1)\n",
        "          cv2.circle(image, (int(right_knee.x * w), int(right_knee.y * h)), 6, (255, 0, 255), -1)\n",
        "          cv2.circle(image, (int(left_knee.x * w), int(left_knee.y * h)), 6, (255, 0, 255), -1)\n",
        "          cv2.circle(image, (int(left_ankle.x * w), int(left_ankle.y * h)), 6, (255, 0, 0), -1)\n",
        "          cv2.circle(image, (int(left_wrist.x * w), int(left_wrist.y * h)), 6, (0, 255, 255), -1)\n",
        "          cv2.circle(image, (int(nose.x * w), int(nose.y * h)), 6, (0, 0, 255), -1)\n",
        "          cv2.circle(image, (int(left_elbow.x * w), int(left_elbow.y * h)), 6, (128, 0, 128), -1)\n",
        "          cv2.circle(image, (int(right_ankle.x * w), int(right_ankle.y * h)), 6, (255, 0, 0), -1)\n",
        "          cv2.circle(image, (int(midpoint_x * w), int(midpoint_y * h)), 6, (255, 255, 255), -1)\n",
        "\n",
        "          # Display angle and lines on the image\n",
        "          cv2.putText(image, f'Shoulders inclination: {shoulders_inclination:.2f}', (10, 20), cv2.FONT_HERSHEY_SIMPLEX, 0.7, (0, 255, 0), 2)\n",
        "          cv2.line(image, (int(right_shoulder.x * w), int(right_shoulder.y * h)), (int(right_shoulder.x * w) + 100, int(right_shoulder.y * h)), (0, 255, 0), 2)\n",
        "          cv2.line(image, (int(left_shoulder.x * w), int(left_shoulder.y * h)), (int(right_shoulder.x * w), int(right_shoulder.y * h)), (0, 255, 0), 2)\n",
        "\n",
        "          cv2.putText(image, f'Hips inclination: {hips_inclination:.2f}', (10, 45), cv2.FONT_HERSHEY_SIMPLEX, 0.7, (255, 255, 0), 2)\n",
        "          cv2.line(image, (int(left_hip.x * w), int(left_hip.y * h)), (int(left_hip.x * w) - 100, int(left_hip.y * h) ), (255, 255, 0), 2)\n",
        "          cv2.line(image, (int(left_hip.x * w), int(left_hip.y * h)), (int(right_hip.x * w), int(right_hip.y * h)), (255, 255, 0), 2)\n",
        "\n",
        "          cv2.putText(image, f'Knee Angle: {knee_angle:.2f}', (10, 70), cv2.FONT_HERSHEY_SIMPLEX, 0.7, (255, 0, 255), 2)\n",
        "          cv2.line(image, (int(left_hip.x * w), int(left_hip.y * h)), (int(left_knee.x * w), int(left_knee.y * h)), (255, 0, 255), 2)\n",
        "          cv2.line(image, (int(left_knee.x * w), int(left_knee.y * h)), (int(left_ankle.x * w), int(left_ankle.y * h)), (255, 0, 255), 2)\n",
        "\n",
        "          cv2.putText(image, f'Pelvis Angle: {pelvis_angle:.2f}', (10, 95), cv2.FONT_HERSHEY_SIMPLEX, 0.7, (0, 150, 255), 2)\n",
        "          cv2.line(image, (int(left_hip.x * w), int(left_hip.y * h)), (int(left_ankle.x * w), int(left_ankle.y * h)), (0, 150, 255), 2)\n",
        "          cv2.line(image, (int(left_hip.x * w), int(left_hip.y * h)), (int(right_shoulder.x * w), int(right_shoulder.y * h)), (0, 150, 255), 2)\n",
        "\n",
        "          cv2.putText(image, f'Arm Angle: {arm_angle:.2f}', (10, 120), cv2.FONT_HERSHEY_SIMPLEX, 0.7, (128, 0, 128), 2)\n",
        "          cv2.line(image, (int(left_shoulder.x * w), int(left_shoulder.y * h)), (int(left_elbow.x * w), int(left_elbow.y * h)), (128, 0, 128), 2)\n",
        "          cv2.line(image, (int(left_elbow.x * w), int(left_elbow.y * h)), (int(left_wrist.x * w), int(left_wrist.y * h)), (128, 0, 128), 2)\n",
        "\n",
        "          cv2.line(image, (int(left_ankle.x * w), int(left_ankle.y * h)), (int(left_ankle.x * w), int(left_ankle.y * h)- 200), (255, 0, 0), 2)\n",
        "          cv2.line(image, (int(right_ankle.x * w), int(right_ankle.y * h)), (int(right_ankle.x * w), int(right_ankle.y * h) - 200), (255, 0, 0), 2)\n",
        "\n",
        "          cv2.line(image, (int(midpoint_x * w), int(midpoint_y * h)), (int(midpoint_x * w), int(midpoint_y * h) - 200), (255, 255, 255), 2)\n",
        "\n",
        "          # Write the frame into the file\n",
        "          out.write(image)\n",
        "\n",
        "          if cv2.waitKey(5) & 0xFF == 27:  # Press 'Esc' to exit the video window\n",
        "              break\n",
        "\n",
        "          frame_number += 1\n",
        "\n",
        "\n",
        "      except Exception as e:\n",
        "          print(f\"An error occurred: {e}\")\n",
        "\n",
        "  # Release the video capture and writer objects\n",
        "  cap.release()\n",
        "  out.release()\n",
        "\n",
        "  # Destroy all OpenCV windows\n",
        "  cv2.destroyAllWindows()"
      ],
      "metadata": {
        "id": "HTEvFjR8yhGJ"
      },
      "execution_count": 10,
      "outputs": []
    },
    {
      "cell_type": "code",
      "source": [
        "process_video(input_file, csv_file_name, output_video_name)"
      ],
      "metadata": {
        "colab": {
          "base_uri": "https://localhost:8080/",
          "height": 309
        },
        "id": "resx4N8iC9ZL",
        "outputId": "ab84705a-2aa0-4c5f-f154-1c3524abc46a"
      },
      "execution_count": 35,
      "outputs": [
        {
          "output_type": "error",
          "ename": "FileNotFoundError",
          "evalue": "ignored",
          "traceback": [
            "\u001b[0;31m---------------------------------------------------------------------------\u001b[0m",
            "\u001b[0;31mFileNotFoundError\u001b[0m                         Traceback (most recent call last)",
            "\u001b[0;32m<ipython-input-35-c8b58adfeae9>\u001b[0m in \u001b[0;36m<cell line: 1>\u001b[0;34m()\u001b[0m\n\u001b[0;32m----> 1\u001b[0;31m \u001b[0mprocess_video\u001b[0m\u001b[0;34m(\u001b[0m\u001b[0minput_file\u001b[0m\u001b[0;34m,\u001b[0m \u001b[0mcsv_file_name\u001b[0m\u001b[0;34m,\u001b[0m \u001b[0moutput_video_name\u001b[0m\u001b[0;34m)\u001b[0m\u001b[0;34m\u001b[0m\u001b[0;34m\u001b[0m\u001b[0m\n\u001b[0m",
            "\u001b[0;32m<ipython-input-10-427855e19391>\u001b[0m in \u001b[0;36mprocess_video\u001b[0;34m(input_file, csv_file_name, output_video_name)\u001b[0m\n\u001b[1;32m      4\u001b[0m   \u001b[0mmp_pose\u001b[0m \u001b[0;34m=\u001b[0m \u001b[0mmp\u001b[0m\u001b[0;34m.\u001b[0m\u001b[0msolutions\u001b[0m\u001b[0;34m.\u001b[0m\u001b[0mpose\u001b[0m\u001b[0;34m\u001b[0m\u001b[0;34m\u001b[0m\u001b[0m\n\u001b[1;32m      5\u001b[0m \u001b[0;34m\u001b[0m\u001b[0m\n\u001b[0;32m----> 6\u001b[0;31m   \u001b[0;32mwith\u001b[0m \u001b[0mopen\u001b[0m\u001b[0;34m(\u001b[0m\u001b[0mcsv_file_name\u001b[0m\u001b[0;34m,\u001b[0m \u001b[0mmode\u001b[0m\u001b[0;34m=\u001b[0m\u001b[0;34m'w'\u001b[0m\u001b[0;34m,\u001b[0m \u001b[0mnewline\u001b[0m\u001b[0;34m=\u001b[0m\u001b[0;34m''\u001b[0m\u001b[0;34m)\u001b[0m \u001b[0;32mas\u001b[0m \u001b[0mfile\u001b[0m\u001b[0;34m:\u001b[0m\u001b[0;34m\u001b[0m\u001b[0;34m\u001b[0m\u001b[0m\n\u001b[0m\u001b[1;32m      7\u001b[0m     \u001b[0mwriter\u001b[0m \u001b[0;34m=\u001b[0m \u001b[0mcsv\u001b[0m\u001b[0;34m.\u001b[0m\u001b[0mwriter\u001b[0m\u001b[0;34m(\u001b[0m\u001b[0mfile\u001b[0m\u001b[0;34m)\u001b[0m\u001b[0;34m\u001b[0m\u001b[0;34m\u001b[0m\u001b[0m\n\u001b[1;32m      8\u001b[0m     writer.writerow([\"video_timestamp\", \"shoulders_inclination\", \"hips_inclination\",\n",
            "\u001b[0;31mFileNotFoundError\u001b[0m: [Errno 2] No such file or directory: 'cropped_videos/output_video_-M5SITXMA2Y.csv'"
          ]
        }
      ]
    }
  ]
}